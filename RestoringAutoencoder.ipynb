{
  "nbformat": 4,
  "nbformat_minor": 0,
  "metadata": {
    "colab": {
      "name": "RestoringAutoencoder.ipynb",
      "provenance": [],
      "collapsed_sections": [],
      "include_colab_link": true
    },
    "kernelspec": {
      "name": "python3",
      "display_name": "Python 3"
    }
  },
  "cells": [
    {
      "cell_type": "markdown",
      "metadata": {
        "id": "view-in-github",
        "colab_type": "text"
      },
      "source": [
        "<a href=\"https://colab.research.google.com/github/liperdio/Autoencoder/blob/master/RestoringAutoencoder.ipynb\" target=\"_parent\"><img src=\"https://colab.research.google.com/assets/colab-badge.svg\" alt=\"Open In Colab\"/></a>"
      ]
    },
    {
      "cell_type": "markdown",
      "metadata": {
        "id": "zoGRx-6lMp4_",
        "colab_type": "text"
      },
      "source": [
        "#**Image Restoration using Autoencoders**"
      ]
    },
    {
      "cell_type": "markdown",
      "metadata": {
        "id": "YBo_bJMKNBlc",
        "colab_type": "text"
      },
      "source": [
        "The goal is to build a working model of a restoring autoencoder that will to learn a representation that is robust to any type of data corruption. \n",
        "\n",
        "As we feed the corrupted image as an input to the encoder part of the network, it must transform the image into a different space that would try to preserve the data set as it removes the corruption.\n"
      ]
    },
    {
      "cell_type": "markdown",
      "metadata": {
        "id": "k7JXutc4UZB-",
        "colab_type": "text"
      },
      "source": [
        "##Generating Corrupted Images\n",
        "\n",
        "The input data for the model is a corrupted MNIST dataset by a white square ranging from 6.25% to 25% of the image area where the position of the white square is randomly chosen.\n",
        "\n",
        "The corrupted images are generated from the remote repository: https://github.com/baudm/ee298z.git "
      ]
    },
    {
      "cell_type": "code",
      "metadata": {
        "id": "f9STnOur8Zx-",
        "colab_type": "code",
        "colab": {
          "base_uri": "https://localhost:8080/",
          "height": 34
        },
        "outputId": "4087d8d4-c39a-4762-a592-78cd87ddad0b"
      },
      "source": [
        "! git clone https://github.com/baudm/ee298z.git"
      ],
      "execution_count": 66,
      "outputs": [
        {
          "output_type": "stream",
          "text": [
            "fatal: destination path 'ee298z' already exists and is not an empty directory.\n"
          ],
          "name": "stdout"
        }
      ]
    },
    {
      "cell_type": "code",
      "metadata": {
        "id": "Steh2I0589Tb",
        "colab_type": "code",
        "colab": {}
      },
      "source": [
        "from ee298z.hw2.transforms import corrupt_mnist_copy\n",
        "from ee298z.hw2.benchmark_keras import test_model"
      ],
      "execution_count": 0,
      "outputs": []
    },
    {
      "cell_type": "code",
      "metadata": {
        "id": "w7opZns9bqsF",
        "colab_type": "code",
        "colab": {}
      },
      "source": [
        "from keras.layers import Dense, Input\n",
        "from keras.layers import Conv2D, Flatten\n",
        "from keras.layers import Reshape, Conv2DTranspose\n",
        "from keras.models import Model"
      ],
      "execution_count": 0,
      "outputs": []
    },
    {
      "cell_type": "code",
      "metadata": {
        "id": "RtXzoAU39oWV",
        "colab_type": "code",
        "colab": {}
      },
      "source": [
        "from tensorflow.keras.datasets import mnist\n",
        "from tensorflow.keras import backend as K\n",
        "\n",
        "\n",
        "(x_train, y_train), (x_test, y_test) = mnist.load_data()\n",
        "\n",
        "x_train_corrupted = corrupt_mnist_copy(x_train)\n",
        "x_test_corrupted = corrupt_mnist_copy(x_test)"
      ],
      "execution_count": 0,
      "outputs": []
    },
    {
      "cell_type": "markdown",
      "metadata": {
        "id": "3kCBzot_VmG8",
        "colab_type": "text"
      },
      "source": [
        "##Visualizing the Corrupted Images\n",
        "\n"
      ]
    },
    {
      "cell_type": "markdown",
      "metadata": {
        "id": "wJqhX-5rWRsz",
        "colab_type": "text"
      },
      "source": [
        "The first ten samples of the original traning data and the corrupted data are shown:\n",
        "\n",
        "We could see that the data corruption of the white squares vary in size and position."
      ]
    },
    {
      "cell_type": "code",
      "metadata": {
        "id": "WbDxNexeAgZe",
        "colab_type": "code",
        "colab": {
          "base_uri": "https://localhost:8080/",
          "height": 84
        },
        "outputId": "445d2e56-4d00-4ccd-988d-1d5b545b07c8"
      },
      "source": [
        "print(x_train.shape)\n",
        "print(x_test.shape)\n",
        "print(x_train_corrupted.shape)\n",
        "print(x_test_corrupted.shape)"
      ],
      "execution_count": 70,
      "outputs": [
        {
          "output_type": "stream",
          "text": [
            "(60000, 28, 28)\n",
            "(10000, 28, 28)\n",
            "(60000, 28, 28)\n",
            "(10000, 28, 28)\n"
          ],
          "name": "stdout"
        }
      ]
    },
    {
      "cell_type": "code",
      "metadata": {
        "id": "24RpjjnsN-0W",
        "colab_type": "code",
        "colab": {
          "base_uri": "https://localhost:8080/",
          "height": 381
        },
        "outputId": "d2d43e54-6d25-491e-8474-71229102048b"
      },
      "source": [
        "# Displays the first ten samples of the original train data and the corrupted data.\n",
        "import matplotlib.pyplot as plt\n",
        "%matplotlib inline\n",
        "n = 10\n",
        "plt.figure(figsize=(30,6))\n",
        "for i in range(n):\n",
        "  \n",
        "  # original images\n",
        "  ax = plt.subplot(3,n,i+1)\n",
        " \n",
        "  plt.imshow(x_train[i].reshape(28,28))\n",
        "  plt.gray()\n",
        "  ax.get_xaxis().set_visible(False)\n",
        "  ax.get_yaxis().set_visible(False)\n",
        "  \n",
        "  # corrupted images\n",
        "  ax = plt.subplot(3,n,i+1+n*2)\n",
        "  plt.imshow(x_train_corrupted[i].reshape(28,28))\n",
        "  plt.gray()\n",
        "  ax.get_xaxis().set_visible(False)\n",
        "  ax.get_yaxis().set_visible(False)\n",
        "\n",
        "plt.show()\n"
      ],
      "execution_count": 71,
      "outputs": [
        {
          "output_type": "display_data",
          "data": {
            "image/png": "[encoded data removed]",
            "text/plain": [
              "<Figure size 2160x432 with 20 Axes>"
            ]
          },
          "metadata": {
            "tags": []
          }
        }
      ]
    },
    {
      "cell_type": "markdown",
      "metadata": {
        "id": "IMrFlMkKW2d9",
        "colab_type": "text"
      },
      "source": [
        "Now that we have corrupted data, we can feed it into the network and see how the squares are \"magically\" removed from the images!"
      ]
    },
    {
      "cell_type": "markdown",
      "metadata": {
        "id": "zfm_W6XfXTyK",
        "colab_type": "text"
      },
      "source": [
        "##Data Preprocessing"
      ]
    },
    {
      "cell_type": "markdown",
      "metadata": {
        "id": "LGKfH_p0XoOE",
        "colab_type": "text"
      },
      "source": [
        "The images of the dataset are grayscale images with pixel values ranging from 0 to 255 having a dimension of 28 x 28. Before feeding the data into the model, we need to convert the train and test sets into matrices of size 28 x 28 x 1. \n",
        "The pixel values must also be normalized into values range of 0-1 inclusive by rescaling it with its maximum pixel value which is 255.\n"
      ]
    },
    {
      "cell_type": "code",
      "metadata": {
        "id": "ez1vvoKuBtUA",
        "colab_type": "code",
        "colab": {
          "base_uri": "https://localhost:8080/",
          "height": 50
        },
        "outputId": "cdf5a2ce-f19e-4289-b991-217eb0e0aa7b"
      },
      "source": [
        "# Normalizing the input\n",
        "image_size = x_train.shape[1]\n",
        "# Re-shaping train data\n",
        "x_train= x_train.reshape(x_train.shape[0], 28, 28, 1)\n",
        "x_train = x_train.astype('float32')\n",
        "# Scaling train data from 0-1\n",
        "x_train/=255\n",
        "# Re-shaping test data\n",
        "x_test = x_test.reshape(x_test.shape[0],28,28,1)\n",
        "x_test = x_test.astype('float32')\n",
        "# Scaling test data from 0-1\n",
        "x_test/=255\n",
        "print(x_train.shape)\n",
        "print(x_test.shape)"
      ],
      "execution_count": 72,
      "outputs": [
        {
          "output_type": "stream",
          "text": [
            "(60000, 28, 28, 1)\n",
            "(10000, 28, 28, 1)\n"
          ],
          "name": "stdout"
        }
      ]
    },
    {
      "cell_type": "code",
      "metadata": {
        "id": "AFl-y4ztIgux",
        "colab_type": "code",
        "colab": {
          "base_uri": "https://localhost:8080/",
          "height": 50
        },
        "outputId": "9771d719-dbb5-4554-923c-458e9fa69b5c"
      },
      "source": [
        "# Re-shaping corrupted train data\n",
        "x_train_corrupted = x_train_corrupted.reshape(x_train_corrupted.shape[0],28,28,1)\n",
        "# Scaling corrupted train data from 0-1\n",
        "x_train_corrupted = x_train_corrupted.astype(K.floatx()) / 255.\n",
        "\n",
        "# Re-shaping corrupted test data\n",
        "x_test_corrupted = x_test_corrupted.reshape(x_test_corrupted.shape[0],28,28,1)\n",
        "# Scaling corrupted test data from 0-1\n",
        "x_test_corrupted = x_test_corrupted.astype(K.floatx()) / 255.\n",
        "\n",
        "print(x_train_corrupted.shape)\n",
        "print(x_test_corrupted.shape)\n"
      ],
      "execution_count": 73,
      "outputs": [
        {
          "output_type": "stream",
          "text": [
            "(60000, 28, 28, 1)\n",
            "(10000, 28, 28, 1)\n"
          ],
          "name": "stdout"
        }
      ]
    },
    {
      "cell_type": "markdown",
      "metadata": {
        "id": "FRCij_wCjSRW",
        "colab_type": "text"
      },
      "source": [
        "##Network Parameters"
      ]
    },
    {
      "cell_type": "markdown",
      "metadata": {
        "id": "ngreTFdIjWIL",
        "colab_type": "text"
      },
      "source": [
        "The batch size used was 32, as I train my network for 10 epochs."
      ]
    },
    {
      "cell_type": "code",
      "metadata": {
        "id": "Fbm2y4UQBtWp",
        "colab_type": "code",
        "colab": {}
      },
      "source": [
        "# network parameters\n",
        "input_shape = (image_size, image_size, 1)\n",
        "batch_size = 32\n",
        "kernel_size = 3\n",
        "latent_dim = 16\n",
        "epochs = 10\n",
        "# encoder/decoder number of CNN layers and filters per layer\n",
        "layer_filters = [32, 64]"
      ],
      "execution_count": 0,
      "outputs": []
    },
    {
      "cell_type": "markdown",
      "metadata": {
        "id": "7ed1mGXRjmJ6",
        "colab_type": "text"
      },
      "source": [
        "##Autoencoder Model"
      ]
    },
    {
      "cell_type": "markdown",
      "metadata": {
        "id": "pjzjykySkAHi",
        "colab_type": "text"
      },
      "source": [
        "###Encoder Model"
      ]
    },
    {
      "cell_type": "markdown",
      "metadata": {
        "id": "5PKoZOKnkDFt",
        "colab_type": "text"
      },
      "source": [
        "The first layer will have 32 filters of size 14 x 14.\n",
        "\n",
        "The second layer will have 64 filters of size 7 x 7 followed by a flatten layer to reshape the tensor into its channel dimension."
      ]
    },
    {
      "cell_type": "code",
      "metadata": {
        "id": "tgr2l-QcadnG",
        "colab_type": "code",
        "colab": {}
      },
      "source": [
        "# Autoencoder model\n",
        "# Encoder Model\n",
        "inputs = Input(shape=input_shape, name='encoder_input')\n",
        "x = inputs"
      ],
      "execution_count": 0,
      "outputs": []
    },
    {
      "cell_type": "code",
      "metadata": {
        "id": "do8qA7W4b0Rm",
        "colab_type": "code",
        "colab": {}
      },
      "source": [
        "# stack of Conv2D(32)-Conv2D(64)\n",
        "for filters in layer_filters:\n",
        "    x = Conv2D(filters=filters,\n",
        "               kernel_size=kernel_size,\n",
        "               strides=2,\n",
        "               activation='relu',\n",
        "               padding='same')(x)"
      ],
      "execution_count": 0,
      "outputs": []
    },
    {
      "cell_type": "code",
      "metadata": {
        "id": "F_jPPusZbkWX",
        "colab_type": "code",
        "colab": {}
      },
      "source": [
        "# the input to the decoder's first Conv2DTranspose will have this shape\n",
        "# shape is (7, 7, 64) which can be processed by the decoder back to (28, 28, 1)\n",
        "shape = K.int_shape(x)"
      ],
      "execution_count": 0,
      "outputs": []
    },
    {
      "cell_type": "code",
      "metadata": {
        "id": "2SbV9u_UDGK6",
        "colab_type": "code",
        "colab": {}
      },
      "source": [
        "# generate the latent vector\n",
        "x = Flatten()(x)\n",
        "latent = Dense(latent_dim, name='latent_vector')(x)"
      ],
      "execution_count": 0,
      "outputs": []
    },
    {
      "cell_type": "code",
      "metadata": {
        "id": "junrMwc3DIjr",
        "colab_type": "code",
        "colab": {
          "base_uri": "https://localhost:8080/",
          "height": 319
        },
        "outputId": "1e158d6a-4bf4-4e44-9d41-666e0cf007eb"
      },
      "source": [
        "# instantiate encoder model\n",
        "encoder = Model(inputs, latent, name='encoder')\n",
        "encoder.summary()\n"
      ],
      "execution_count": 79,
      "outputs": [
        {
          "output_type": "stream",
          "text": [
            "Model: \"encoder\"\n",
            "_________________________________________________________________\n",
            "Layer (type)                 Output Shape              Param #   \n",
            "=================================================================\n",
            "encoder_input (InputLayer)   (None, 28, 28, 1)         0         \n",
            "_________________________________________________________________\n",
            "conv2d_7 (Conv2D)            (None, 14, 14, 32)        320       \n",
            "_________________________________________________________________\n",
            "conv2d_8 (Conv2D)            (None, 7, 7, 64)          18496     \n",
            "_________________________________________________________________\n",
            "flatten_4 (Flatten)          (None, 3136)              0         \n",
            "_________________________________________________________________\n",
            "latent_vector (Dense)        (None, 16)                50192     \n",
            "=================================================================\n",
            "Total params: 69,008\n",
            "Trainable params: 69,008\n",
            "Non-trainable params: 0\n",
            "_________________________________________________________________\n"
          ],
          "name": "stdout"
        }
      ]
    },
    {
      "cell_type": "markdown",
      "metadata": {
        "id": "9jSpwoJlmhd7",
        "colab_type": "text"
      },
      "source": [
        "###Decoder Model"
      ]
    },
    {
      "cell_type": "markdown",
      "metadata": {
        "id": "QfL4VLHXmljj",
        "colab_type": "text"
      },
      "source": [
        "The input to the decoder model must be reshaped first to become suitable shape for transpose conv.\n",
        "\n",
        "The first layer will have 64 filters of size 14 x 14.\n",
        "\n",
        "The second layer will have 32 filters of size 28 x 28.\n",
        "\n",
        "Then the final layer of the decoder will have 1 filter of size 28 x 28."
      ]
    },
    {
      "cell_type": "code",
      "metadata": {
        "id": "V6BZFmYFDKIb",
        "colab_type": "code",
        "colab": {}
      },
      "source": [
        "# Decoder model\n",
        "latent_inputs = Input(shape=(latent_dim,), name='decoder_input')\n",
        "x = Dense(shape[1] * shape[2] * shape[3])(latent_inputs)\n",
        "# from vector to suitable shape for transposed conv\n",
        "x = Reshape((shape[1], shape[2], shape[3]))(x)\n"
      ],
      "execution_count": 0,
      "outputs": []
    },
    {
      "cell_type": "code",
      "metadata": {
        "id": "Z4ItQTjaDOAO",
        "colab_type": "code",
        "colab": {}
      },
      "source": [
        "# stack of Conv2DTranspose(64)-Conv2DTranspose(32)\n",
        "for filters in layer_filters[::-1]:\n",
        "    x = Conv2DTranspose(filters=filters,\n",
        "                        kernel_size=kernel_size,\n",
        "                        strides=2,\n",
        "                        activation='relu',\n",
        "                        padding='same')(x)"
      ],
      "execution_count": 0,
      "outputs": []
    },
    {
      "cell_type": "code",
      "metadata": {
        "id": "YDkVGQzlDSJL",
        "colab_type": "code",
        "colab": {}
      },
      "source": [
        "# reconstruct the denoised input\n",
        "outputs = Conv2DTranspose(filters=1,\n",
        "                          kernel_size=kernel_size,\n",
        "                          padding='same',\n",
        "                          activation='sigmoid',\n",
        "                          name='decoder_output')(x)\n"
      ],
      "execution_count": 0,
      "outputs": []
    },
    {
      "cell_type": "code",
      "metadata": {
        "id": "SZMADu5dDTpo",
        "colab_type": "code",
        "colab": {
          "base_uri": "https://localhost:8080/",
          "height": 353
        },
        "outputId": "edcffd87-4d62-45f9-ebf6-adfe19a03b58"
      },
      "source": [
        "# instantiate decoder model\n",
        "decoder = Model(latent_inputs, outputs, name='decoder')\n",
        "decoder.summary()"
      ],
      "execution_count": 83,
      "outputs": [
        {
          "output_type": "stream",
          "text": [
            "Model: \"decoder\"\n",
            "_________________________________________________________________\n",
            "Layer (type)                 Output Shape              Param #   \n",
            "=================================================================\n",
            "decoder_input (InputLayer)   (None, 16)                0         \n",
            "_________________________________________________________________\n",
            "dense_5 (Dense)              (None, 3136)              53312     \n",
            "_________________________________________________________________\n",
            "reshape_3 (Reshape)          (None, 7, 7, 64)          0         \n",
            "_________________________________________________________________\n",
            "conv2d_transpose_5 (Conv2DTr (None, 14, 14, 64)        36928     \n",
            "_________________________________________________________________\n",
            "conv2d_transpose_6 (Conv2DTr (None, 28, 28, 32)        18464     \n",
            "_________________________________________________________________\n",
            "decoder_output (Conv2DTransp (None, 28, 28, 1)         289       \n",
            "=================================================================\n",
            "Total params: 108,993\n",
            "Trainable params: 108,993\n",
            "Non-trainable params: 0\n",
            "_________________________________________________________________\n"
          ],
          "name": "stdout"
        }
      ]
    },
    {
      "cell_type": "code",
      "metadata": {
        "id": "UnZObkqNDVNy",
        "colab_type": "code",
        "colab": {
          "base_uri": "https://localhost:8080/",
          "height": 252
        },
        "outputId": "1b2b0f31-08bf-4036-a273-b9177f4a102e"
      },
      "source": [
        "# autoencoder = encoder + decoder\n",
        "# instantiate autoencoder model\n",
        "autoencoder = Model(inputs, decoder(encoder(inputs)), name='autoencoder')\n",
        "autoencoder.summary()\n"
      ],
      "execution_count": 84,
      "outputs": [
        {
          "output_type": "stream",
          "text": [
            "Model: \"autoencoder\"\n",
            "_________________________________________________________________\n",
            "Layer (type)                 Output Shape              Param #   \n",
            "=================================================================\n",
            "encoder_input (InputLayer)   (None, 28, 28, 1)         0         \n",
            "_________________________________________________________________\n",
            "encoder (Model)              (None, 16)                69008     \n",
            "_________________________________________________________________\n",
            "decoder (Model)              (None, 28, 28, 1)         108993    \n",
            "=================================================================\n",
            "Total params: 178,001\n",
            "Trainable params: 178,001\n",
            "Non-trainable params: 0\n",
            "_________________________________________________________________\n"
          ],
          "name": "stdout"
        }
      ]
    },
    {
      "cell_type": "markdown",
      "metadata": {
        "id": "z534K12toH7J",
        "colab_type": "text"
      },
      "source": [
        "##Autoencoder Compiler"
      ]
    },
    {
      "cell_type": "markdown",
      "metadata": {
        "id": "tC1yJplRoVEF",
        "colab_type": "text"
      },
      "source": [
        "After the model is created, we have to compile it using an optimizer RMSProp and a specified loss type which is the MSE (Mean squared error). MSE will be computed for the loss between the batch of predicted output and the ground truth pixel by pixel."
      ]
    },
    {
      "cell_type": "code",
      "metadata": {
        "id": "5cufsF7ADW4z",
        "colab_type": "code",
        "colab": {}
      },
      "source": [
        "# Mean Square Error (MSE) loss function, Adam optimizer\n",
        "autoencoder.compile(loss='mse', optimizer='adam')\n"
      ],
      "execution_count": 0,
      "outputs": []
    },
    {
      "cell_type": "markdown",
      "metadata": {
        "id": "t4lGAs0rpSgZ",
        "colab_type": "text"
      },
      "source": [
        "##Train the Model"
      ]
    },
    {
      "cell_type": "markdown",
      "metadata": {
        "id": "T9bfWOuJpYIb",
        "colab_type": "text"
      },
      "source": [
        "At every iteration of the training, the network will compute a loss between the corrupted image outputted by the decoder, and the ground truth (original MNIST), and will try to minimize the loss or difference between the reconstructed image and the original noise-free image."
      ]
    },
    {
      "cell_type": "code",
      "metadata": {
        "id": "COFkwSnqDe6w",
        "colab_type": "code",
        "outputId": "4a40adad-4f3e-4759-f7a9-cd6d1dc0e0e5",
        "colab": {
          "base_uri": "https://localhost:8080/",
          "height": 370
        }
      },
      "source": [
        "# Train the autoencoder\n",
        "autoencoder_train = autoencoder.fit(x_train_corrupted,\n",
        "                x_train,\n",
        "                validation_data=(x_test_corrupted, x_test),\n",
        "                epochs=epochs,\n",
        "                batch_size=batch_size,\n",
        "                verbose=1)"
      ],
      "execution_count": 86,
      "outputs": [
        {
          "output_type": "stream",
          "text": [
            "Train on 60000 samples, validate on 10000 samples\n",
            "Epoch 1/10\n",
            "60000/60000 [==============================] - 108s 2ms/step - loss: 0.0358 - val_loss: 0.0221\n",
            "Epoch 2/10\n",
            "60000/60000 [==============================] - 109s 2ms/step - loss: 0.0205 - val_loss: 0.0191\n",
            "Epoch 3/10\n",
            "60000/60000 [==============================] - 108s 2ms/step - loss: 0.0187 - val_loss: 0.0182\n",
            "Epoch 4/10\n",
            "60000/60000 [==============================] - 108s 2ms/step - loss: 0.0177 - val_loss: 0.0176\n",
            "Epoch 5/10\n",
            "60000/60000 [==============================] - 109s 2ms/step - loss: 0.0170 - val_loss: 0.0172\n",
            "Epoch 6/10\n",
            "60000/60000 [==============================] - 109s 2ms/step - loss: 0.0165 - val_loss: 0.0168\n",
            "Epoch 7/10\n",
            "60000/60000 [==============================] - 110s 2ms/step - loss: 0.0162 - val_loss: 0.0166\n",
            "Epoch 8/10\n",
            "60000/60000 [==============================] - 109s 2ms/step - loss: 0.0159 - val_loss: 0.0164\n",
            "Epoch 9/10\n",
            "60000/60000 [==============================] - 109s 2ms/step - loss: 0.0156 - val_loss: 0.0161\n",
            "Epoch 10/10\n",
            "60000/60000 [==============================] - 110s 2ms/step - loss: 0.0154 - val_loss: 0.0161\n"
          ],
          "name": "stdout"
        }
      ]
    },
    {
      "cell_type": "markdown",
      "metadata": {
        "id": "MFlUFhHhM_Kj",
        "colab_type": "text"
      },
      "source": [
        "##Training vs Validation Loss Plot"
      ]
    },
    {
      "cell_type": "markdown",
      "metadata": {
        "id": "QDrYKvPMppkz",
        "colab_type": "text"
      },
      "source": [
        "Finally, we can see that the validation loss and the training loss both are in sync. \n",
        "\n",
        "It is shown that our model is not overfitting, as the validation loss is decreasing, and there rarely any gap between the training and validation loss.\n",
        "\n"
      ]
    },
    {
      "cell_type": "code",
      "metadata": {
        "id": "ZhQYuuYeJsq0",
        "colab_type": "code",
        "colab": {
          "base_uri": "https://localhost:8080/",
          "height": 281
        },
        "outputId": "d2c15f49-edb3-4fbc-b0cb-4cd1cbdb7980"
      },
      "source": [
        "loss = autoencoder_train.history['loss']\n",
        "val_loss = autoencoder_train.history['val_loss']\n",
        "epochs = range(epochs)\n",
        "#epochs = epochs\n",
        "plt.figure()\n",
        "plt.plot(epochs, loss, 'bo', label='Training loss')\n",
        "plt.plot(epochs, val_loss, 'b', label='Validation loss')\n",
        "plt.title('Training and validation loss')\n",
        "plt.legend()\n",
        "plt.show()"
      ],
      "execution_count": 87,
      "outputs": [
        {
          "output_type": "display_data",
          "data": {
            "image/png": "[encoded data removed]",
            "text/plain": [
              "<Figure size 432x288 with 1 Axes>"
            ]
          },
          "metadata": {
            "tags": []
          }
        }
      ]
    },
    {
      "cell_type": "markdown",
      "metadata": {
        "id": "tzszRXnkpnHw",
        "colab_type": "text"
      },
      "source": [
        "##Benchmark"
      ]
    },
    {
      "cell_type": "markdown",
      "metadata": {
        "id": "RWfkqCHHqsDP",
        "colab_type": "text"
      },
      "source": [
        "The benchmark code is generated from the remote repository: https://github.com/baudm/ee298z.git\n",
        "\n",
        "It consists of two metrics; the Classifier Score and the SSIM Score.\n",
        "\n",
        "The Classifier Score measures the quality of inpainting and has a baseline value of 78.13(for PyTorch) and 78.36 (for Keras).\n",
        "\n",
        "On the otherhand, the SSIM Score measures the capability to detect and preserve uncorrupted pixels having a baseline value of 75.\n",
        "\n"
      ]
    },
    {
      "cell_type": "code",
      "metadata": {
        "id": "NwkJ9yMoM2xy",
        "colab_type": "code",
        "colab": {
          "base_uri": "https://localhost:8080/",
          "height": 50
        },
        "outputId": "013bf547-fd54-44ae-a086-5f5d100ecf29"
      },
      "source": [
        "from tensorflow.keras.datasets import mnist \n",
        "from tensorflow.keras import backend as K \n",
        "from ee298z.hw2.benchmark_keras import test_model \n",
        "(x_train, y_train), (x_bench, y_bench) = mnist.load_data() \n",
        "# Scale to [0, 1] \n",
        "x_bench = x_bench.astype(K.floatx()) / 255. \n",
        "# model is your Keras model # DO NOT convert y_bench, i.e. don't use keras.utils.to_categorical() \n",
        "test_model(autoencoder, x_bench, y_bench, batch_size=100)\n"
      ],
      "execution_count": 89,
      "outputs": [
        {
          "output_type": "stream",
          "text": [
            "Classifier score: 93.92\n",
            "SSIM score: 89.69\n"
          ],
          "name": "stdout"
        }
      ]
    },
    {
      "cell_type": "markdown",
      "metadata": {
        "id": "Hf3pwM3zsIY1",
        "colab_type": "text"
      },
      "source": [
        "The scores that our model generated were higher than the baseline scores which indicates that our model's generalization capability is good."
      ]
    },
    {
      "cell_type": "markdown",
      "metadata": {
        "id": "g9ZcTaDLsznH",
        "colab_type": "text"
      },
      "source": [
        "##Predicting on Test Data"
      ]
    },
    {
      "cell_type": "markdown",
      "metadata": {
        "id": "sZkdCHlRs43k",
        "colab_type": "text"
      },
      "source": [
        "Finally, we must see how well our model is able to reconstruct on the test data.\n",
        "\n",
        "We will be predicting the trained model on the complete 10,000 images using the Keras predict() function. "
      ]
    },
    {
      "cell_type": "code",
      "metadata": {
        "id": "z5sAPgH9Tm8_",
        "colab_type": "code",
        "colab": {
          "base_uri": "https://localhost:8080/",
          "height": 67
        },
        "outputId": "ada80289-0fea-48c6-f41f-e47f05f58f0e"
      },
      "source": [
        "# run noisy test data through the encoder\n",
        "print(x_test_corrupted.shape)\n",
        "encoded_imgs = encoder.predict(x_test_corrupted)\n",
        "print(encoded_imgs.shape)\n",
        "# run encoded noisy test image back through the decoder\n",
        "decoded_imgs = decoder.predict(encoded_imgs)\n",
        "\n",
        "# make sense of the shapes\n",
        "\n",
        "print(decoded_imgs.shape)"
      ],
      "execution_count": 90,
      "outputs": [
        {
          "output_type": "stream",
          "text": [
            "(10000, 28, 28, 1)\n",
            "(10000, 16)\n",
            "(10000, 28, 28, 1)\n"
          ],
          "name": "stdout"
        }
      ]
    },
    {
      "cell_type": "markdown",
      "metadata": {
        "id": "om26kWhPtewL",
        "colab_type": "text"
      },
      "source": [
        "Here are the sample reconstructed images to visualize how well our model is able to construct the test images."
      ]
    },
    {
      "cell_type": "code",
      "metadata": {
        "id": "wg4La-ykDi8Z",
        "colab_type": "code",
        "colab": {
          "base_uri": "https://localhost:8080/",
          "height": 381
        },
        "outputId": "3ab85578-2882-4dd2-c22b-09e55c23a843"
      },
      "source": [
        "# display the images\n",
        "n = 10\n",
        "plt.figure(figsize=(30,6))\n",
        "for i in range(n):\n",
        "  # noisy images\n",
        "  ax = plt.subplot(3,n,i+1)\n",
        "  plt.imshow(x_test_corrupted[i].reshape(28,28))\n",
        "  plt.gray()\n",
        "  ax.get_xaxis().set_visible(False)\n",
        "  ax.get_yaxis().set_visible(False)\n",
        "\n",
        "  # denoised images\n",
        "  ax = plt.subplot(3,n,i+1+n)\n",
        "  plt.imshow(decoded_imgs[i].reshape(28,28))\n",
        "  plt.gray()\n",
        "  ax.get_xaxis().set_visible(False)\n",
        "  ax.get_yaxis().set_visible(False)\n",
        "\n",
        "  # original images\n",
        "  ax = plt.subplot(3,n,i+1+n*2)\n",
        "  plt.imshow(x_test[i].reshape(28,28))\n",
        "  plt.gray()\n",
        "  ax.get_xaxis().set_visible(False)\n",
        "  ax.get_yaxis().set_visible(False)\n",
        "plt.show()\n"
      ],
      "execution_count": 91,
      "outputs": [
        {
          "output_type": "display_data",
          "data": {
            "image/png": "[encoded data removed]",
            "text/plain": [
              "<Figure size 2160x432 with 30 Axes>"
            ]
          },
          "metadata": {
            "tags": []
          }
        }
      ]
    },
    {
      "cell_type": "markdown",
      "metadata": {
        "id": "-0tkjkX_wHjt",
        "colab_type": "text"
      },
      "source": [
        "First row : Corrupted Image Samples\n",
        "\n",
        "Second row : Reconstructed Image Samples\n",
        "\n",
        "Third row : Original Image Samples (Ground Truth)"
      ]
    },
    {
      "cell_type": "markdown",
      "metadata": {
        "id": "H10mghpFuRnq",
        "colab_type": "text"
      },
      "source": [
        "From the above figures, We can observe that those blurry parts of the reconstructed images are the locations of the white squares on the corrupted images. \n",
        "\n",
        "We can also observe that our model did a fantastic job in reconstructing the test images that we predicted using the model. "
      ]
    },
    {
      "cell_type": "markdown",
      "metadata": {
        "id": "Hu2v2jWXwSzf",
        "colab_type": "text"
      },
      "source": [
        "##Conclusion"
      ]
    },
    {
      "cell_type": "markdown",
      "metadata": {
        "id": "xvDWN3yAwW6A",
        "colab_type": "text"
      },
      "source": [
        "As we corrupt the input data using white squares generation, we have learned about that data by attempting to reconstruct it. The job of the autoencoder network is to recognize the features within the squares that will allow it to classify the input. \n",
        "\n",
        "While the network is being trained, it generates a model, then measures the distance between the model and the benchmark through a loss function. Furthermore, it attempts to minimize that loss function by resampling and reconstructing the data again, until it finds those inputs that would bring the model closest to the ground truth. "
      ]
    }
  ]
}